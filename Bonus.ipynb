{
 "cells": [
  {
   "cell_type": "markdown",
   "metadata": {},
   "source": [
    "Here I use votingregressor model combining GradientBoostingRegressor, RandomForestRegressor, HuberRegressor, LinearRegression with interaction term, AdaBoostRegressor, KernelRidge and SVR with linear kernel & 1 degree.\n",
    "\n",
    "\n",
    "This model is at the last cell.\n",
    "It is the best model I have tried.\n",
    "Its mean(MSE) and var(MSE) are 4.53 and 0.196."
   ]
  },
  {
   "cell_type": "code",
   "execution_count": 1,
   "metadata": {
    "ExecuteTime": {
     "end_time": "2020-05-18T15:14:24.628195Z",
     "start_time": "2020-05-18T15:14:21.300660Z"
    }
   },
   "outputs": [],
   "source": [
    "import pandas as pd\n",
    "import numpy as np\n",
    "import matplotlib.pyplot as plt\n",
    "import pylab as pl \n",
    "from sklearn import preprocessing \n",
    "from sklearn.preprocessing import Imputer\n",
    "from sklearn import impute\n",
    "import seaborn as sns\n",
    "from sklearn.metrics import r2_score, mean_absolute_error, mean_squared_error\n",
    "from sklearn.ensemble import RandomForestClassifier\n",
    "from sklearn import linear_model\n",
    "from sklearn.model_selection import train_test_split"
   ]
  },
  {
   "cell_type": "code",
   "execution_count": 2,
   "metadata": {
    "ExecuteTime": {
     "end_time": "2020-05-18T15:14:25.920679Z",
     "start_time": "2020-05-18T15:14:25.904209Z"
    }
   },
   "outputs": [],
   "source": [
    "data = pd.read_csv(\"/Users/raysun/course/MAFS6010S/GaltonFamilies.csv\")\n",
    "\n"
   ]
  },
  {
   "cell_type": "code",
   "execution_count": 184,
   "metadata": {
    "ExecuteTime": {
     "end_time": "2020-05-04T13:39:51.970675Z",
     "start_time": "2020-05-04T13:39:51.947481Z"
    }
   },
   "outputs": [
    {
     "data": {
      "text/html": [
       "<div>\n",
       "<style scoped>\n",
       "    .dataframe tbody tr th:only-of-type {\n",
       "        vertical-align: middle;\n",
       "    }\n",
       "\n",
       "    .dataframe tbody tr th {\n",
       "        vertical-align: top;\n",
       "    }\n",
       "\n",
       "    .dataframe thead th {\n",
       "        text-align: right;\n",
       "    }\n",
       "</style>\n",
       "<table border=\"1\" class=\"dataframe\">\n",
       "  <thead>\n",
       "    <tr style=\"text-align: right;\">\n",
       "      <th></th>\n",
       "      <th>Unnamed: 0</th>\n",
       "      <th>family</th>\n",
       "      <th>father</th>\n",
       "      <th>mother</th>\n",
       "      <th>midparentHeight</th>\n",
       "      <th>children</th>\n",
       "      <th>childNum</th>\n",
       "      <th>gender</th>\n",
       "      <th>childHeight</th>\n",
       "    </tr>\n",
       "  </thead>\n",
       "  <tbody>\n",
       "    <tr>\n",
       "      <th>0</th>\n",
       "      <td>1</td>\n",
       "      <td>001</td>\n",
       "      <td>78.5</td>\n",
       "      <td>67.0</td>\n",
       "      <td>75.43</td>\n",
       "      <td>4</td>\n",
       "      <td>1</td>\n",
       "      <td>1</td>\n",
       "      <td>73.2</td>\n",
       "    </tr>\n",
       "    <tr>\n",
       "      <th>1</th>\n",
       "      <td>2</td>\n",
       "      <td>001</td>\n",
       "      <td>78.5</td>\n",
       "      <td>67.0</td>\n",
       "      <td>75.43</td>\n",
       "      <td>4</td>\n",
       "      <td>2</td>\n",
       "      <td>0</td>\n",
       "      <td>69.2</td>\n",
       "    </tr>\n",
       "    <tr>\n",
       "      <th>2</th>\n",
       "      <td>3</td>\n",
       "      <td>001</td>\n",
       "      <td>78.5</td>\n",
       "      <td>67.0</td>\n",
       "      <td>75.43</td>\n",
       "      <td>4</td>\n",
       "      <td>3</td>\n",
       "      <td>0</td>\n",
       "      <td>69.0</td>\n",
       "    </tr>\n",
       "    <tr>\n",
       "      <th>3</th>\n",
       "      <td>4</td>\n",
       "      <td>001</td>\n",
       "      <td>78.5</td>\n",
       "      <td>67.0</td>\n",
       "      <td>75.43</td>\n",
       "      <td>4</td>\n",
       "      <td>4</td>\n",
       "      <td>0</td>\n",
       "      <td>69.0</td>\n",
       "    </tr>\n",
       "    <tr>\n",
       "      <th>4</th>\n",
       "      <td>5</td>\n",
       "      <td>002</td>\n",
       "      <td>75.5</td>\n",
       "      <td>66.5</td>\n",
       "      <td>73.66</td>\n",
       "      <td>4</td>\n",
       "      <td>1</td>\n",
       "      <td>1</td>\n",
       "      <td>73.5</td>\n",
       "    </tr>\n",
       "    <tr>\n",
       "      <th>5</th>\n",
       "      <td>6</td>\n",
       "      <td>002</td>\n",
       "      <td>75.5</td>\n",
       "      <td>66.5</td>\n",
       "      <td>73.66</td>\n",
       "      <td>4</td>\n",
       "      <td>2</td>\n",
       "      <td>1</td>\n",
       "      <td>72.5</td>\n",
       "    </tr>\n",
       "    <tr>\n",
       "      <th>6</th>\n",
       "      <td>7</td>\n",
       "      <td>002</td>\n",
       "      <td>75.5</td>\n",
       "      <td>66.5</td>\n",
       "      <td>73.66</td>\n",
       "      <td>4</td>\n",
       "      <td>3</td>\n",
       "      <td>0</td>\n",
       "      <td>65.5</td>\n",
       "    </tr>\n",
       "    <tr>\n",
       "      <th>7</th>\n",
       "      <td>8</td>\n",
       "      <td>002</td>\n",
       "      <td>75.5</td>\n",
       "      <td>66.5</td>\n",
       "      <td>73.66</td>\n",
       "      <td>4</td>\n",
       "      <td>4</td>\n",
       "      <td>0</td>\n",
       "      <td>65.5</td>\n",
       "    </tr>\n",
       "    <tr>\n",
       "      <th>8</th>\n",
       "      <td>9</td>\n",
       "      <td>003</td>\n",
       "      <td>75.0</td>\n",
       "      <td>64.0</td>\n",
       "      <td>72.06</td>\n",
       "      <td>2</td>\n",
       "      <td>1</td>\n",
       "      <td>1</td>\n",
       "      <td>71.0</td>\n",
       "    </tr>\n",
       "    <tr>\n",
       "      <th>9</th>\n",
       "      <td>10</td>\n",
       "      <td>003</td>\n",
       "      <td>75.0</td>\n",
       "      <td>64.0</td>\n",
       "      <td>72.06</td>\n",
       "      <td>2</td>\n",
       "      <td>2</td>\n",
       "      <td>0</td>\n",
       "      <td>68.0</td>\n",
       "    </tr>\n",
       "    <tr>\n",
       "      <th>10</th>\n",
       "      <td>11</td>\n",
       "      <td>004</td>\n",
       "      <td>75.0</td>\n",
       "      <td>64.0</td>\n",
       "      <td>72.06</td>\n",
       "      <td>5</td>\n",
       "      <td>1</td>\n",
       "      <td>1</td>\n",
       "      <td>70.5</td>\n",
       "    </tr>\n",
       "    <tr>\n",
       "      <th>11</th>\n",
       "      <td>12</td>\n",
       "      <td>004</td>\n",
       "      <td>75.0</td>\n",
       "      <td>64.0</td>\n",
       "      <td>72.06</td>\n",
       "      <td>5</td>\n",
       "      <td>2</td>\n",
       "      <td>1</td>\n",
       "      <td>68.5</td>\n",
       "    </tr>\n",
       "    <tr>\n",
       "      <th>12</th>\n",
       "      <td>13</td>\n",
       "      <td>004</td>\n",
       "      <td>75.0</td>\n",
       "      <td>64.0</td>\n",
       "      <td>72.06</td>\n",
       "      <td>5</td>\n",
       "      <td>3</td>\n",
       "      <td>0</td>\n",
       "      <td>67.0</td>\n",
       "    </tr>\n",
       "    <tr>\n",
       "      <th>13</th>\n",
       "      <td>14</td>\n",
       "      <td>004</td>\n",
       "      <td>75.0</td>\n",
       "      <td>64.0</td>\n",
       "      <td>72.06</td>\n",
       "      <td>5</td>\n",
       "      <td>4</td>\n",
       "      <td>0</td>\n",
       "      <td>64.5</td>\n",
       "    </tr>\n",
       "    <tr>\n",
       "      <th>14</th>\n",
       "      <td>15</td>\n",
       "      <td>004</td>\n",
       "      <td>75.0</td>\n",
       "      <td>64.0</td>\n",
       "      <td>72.06</td>\n",
       "      <td>5</td>\n",
       "      <td>5</td>\n",
       "      <td>0</td>\n",
       "      <td>63.0</td>\n",
       "    </tr>\n",
       "    <tr>\n",
       "      <th>15</th>\n",
       "      <td>16</td>\n",
       "      <td>005</td>\n",
       "      <td>75.0</td>\n",
       "      <td>58.5</td>\n",
       "      <td>69.09</td>\n",
       "      <td>6</td>\n",
       "      <td>1</td>\n",
       "      <td>1</td>\n",
       "      <td>72.0</td>\n",
       "    </tr>\n",
       "    <tr>\n",
       "      <th>16</th>\n",
       "      <td>17</td>\n",
       "      <td>005</td>\n",
       "      <td>75.0</td>\n",
       "      <td>58.5</td>\n",
       "      <td>69.09</td>\n",
       "      <td>6</td>\n",
       "      <td>2</td>\n",
       "      <td>1</td>\n",
       "      <td>69.0</td>\n",
       "    </tr>\n",
       "    <tr>\n",
       "      <th>17</th>\n",
       "      <td>18</td>\n",
       "      <td>005</td>\n",
       "      <td>75.0</td>\n",
       "      <td>58.5</td>\n",
       "      <td>69.09</td>\n",
       "      <td>6</td>\n",
       "      <td>3</td>\n",
       "      <td>1</td>\n",
       "      <td>68.0</td>\n",
       "    </tr>\n",
       "    <tr>\n",
       "      <th>18</th>\n",
       "      <td>19</td>\n",
       "      <td>005</td>\n",
       "      <td>75.0</td>\n",
       "      <td>58.5</td>\n",
       "      <td>69.09</td>\n",
       "      <td>6</td>\n",
       "      <td>4</td>\n",
       "      <td>0</td>\n",
       "      <td>66.5</td>\n",
       "    </tr>\n",
       "    <tr>\n",
       "      <th>19</th>\n",
       "      <td>20</td>\n",
       "      <td>005</td>\n",
       "      <td>75.0</td>\n",
       "      <td>58.5</td>\n",
       "      <td>69.09</td>\n",
       "      <td>6</td>\n",
       "      <td>5</td>\n",
       "      <td>0</td>\n",
       "      <td>62.5</td>\n",
       "    </tr>\n",
       "  </tbody>\n",
       "</table>\n",
       "</div>"
      ],
      "text/plain": [
       "    Unnamed: 0 family  father  mother  midparentHeight  children  childNum  \\\n",
       "0            1    001    78.5    67.0            75.43         4         1   \n",
       "1            2    001    78.5    67.0            75.43         4         2   \n",
       "2            3    001    78.5    67.0            75.43         4         3   \n",
       "3            4    001    78.5    67.0            75.43         4         4   \n",
       "4            5    002    75.5    66.5            73.66         4         1   \n",
       "5            6    002    75.5    66.5            73.66         4         2   \n",
       "6            7    002    75.5    66.5            73.66         4         3   \n",
       "7            8    002    75.5    66.5            73.66         4         4   \n",
       "8            9    003    75.0    64.0            72.06         2         1   \n",
       "9           10    003    75.0    64.0            72.06         2         2   \n",
       "10          11    004    75.0    64.0            72.06         5         1   \n",
       "11          12    004    75.0    64.0            72.06         5         2   \n",
       "12          13    004    75.0    64.0            72.06         5         3   \n",
       "13          14    004    75.0    64.0            72.06         5         4   \n",
       "14          15    004    75.0    64.0            72.06         5         5   \n",
       "15          16    005    75.0    58.5            69.09         6         1   \n",
       "16          17    005    75.0    58.5            69.09         6         2   \n",
       "17          18    005    75.0    58.5            69.09         6         3   \n",
       "18          19    005    75.0    58.5            69.09         6         4   \n",
       "19          20    005    75.0    58.5            69.09         6         5   \n",
       "\n",
       "    gender  childHeight  \n",
       "0        1         73.2  \n",
       "1        0         69.2  \n",
       "2        0         69.0  \n",
       "3        0         69.0  \n",
       "4        1         73.5  \n",
       "5        1         72.5  \n",
       "6        0         65.5  \n",
       "7        0         65.5  \n",
       "8        1         71.0  \n",
       "9        0         68.0  \n",
       "10       1         70.5  \n",
       "11       1         68.5  \n",
       "12       0         67.0  \n",
       "13       0         64.5  \n",
       "14       0         63.0  \n",
       "15       1         72.0  \n",
       "16       1         69.0  \n",
       "17       1         68.0  \n",
       "18       0         66.5  \n",
       "19       0         62.5  "
      ]
     },
     "execution_count": 184,
     "metadata": {},
     "output_type": "execute_result"
    }
   ],
   "source": [
    "data.head(20)"
   ]
  },
  {
   "cell_type": "code",
   "execution_count": 3,
   "metadata": {
    "ExecuteTime": {
     "end_time": "2020-05-18T15:14:33.803185Z",
     "start_time": "2020-05-18T15:14:33.796492Z"
    }
   },
   "outputs": [],
   "source": [
    "def gender(gender):\n",
    "    x=0\n",
    "    if gender=='male':\n",
    "        x=1\n",
    "    elif gender=='female':\n",
    "        x=0\n",
    "    return x"
   ]
  },
  {
   "cell_type": "code",
   "execution_count": 4,
   "metadata": {
    "ExecuteTime": {
     "end_time": "2020-05-18T15:14:36.127043Z",
     "start_time": "2020-05-18T15:14:36.117674Z"
    }
   },
   "outputs": [],
   "source": [
    "data['gender']=data['gender'].apply(gender)"
   ]
  },
  {
   "cell_type": "code",
   "execution_count": 23,
   "metadata": {
    "ExecuteTime": {
     "end_time": "2020-05-04T13:04:38.321714Z",
     "start_time": "2020-05-04T13:04:38.299236Z"
    }
   },
   "outputs": [
    {
     "data": {
      "text/html": [
       "<div>\n",
       "<style scoped>\n",
       "    .dataframe tbody tr th:only-of-type {\n",
       "        vertical-align: middle;\n",
       "    }\n",
       "\n",
       "    .dataframe tbody tr th {\n",
       "        vertical-align: top;\n",
       "    }\n",
       "\n",
       "    .dataframe thead th {\n",
       "        text-align: right;\n",
       "    }\n",
       "</style>\n",
       "<table border=\"1\" class=\"dataframe\">\n",
       "  <thead>\n",
       "    <tr style=\"text-align: right;\">\n",
       "      <th></th>\n",
       "      <th>Unnamed: 0</th>\n",
       "      <th>family</th>\n",
       "      <th>father</th>\n",
       "      <th>mother</th>\n",
       "      <th>midparentHeight</th>\n",
       "      <th>children</th>\n",
       "      <th>childNum</th>\n",
       "      <th>gender</th>\n",
       "      <th>childHeight</th>\n",
       "    </tr>\n",
       "  </thead>\n",
       "  <tbody>\n",
       "    <tr>\n",
       "      <th>0</th>\n",
       "      <td>1</td>\n",
       "      <td>001</td>\n",
       "      <td>78.5</td>\n",
       "      <td>67.0</td>\n",
       "      <td>75.43</td>\n",
       "      <td>4</td>\n",
       "      <td>1</td>\n",
       "      <td>1</td>\n",
       "      <td>73.2</td>\n",
       "    </tr>\n",
       "    <tr>\n",
       "      <th>1</th>\n",
       "      <td>2</td>\n",
       "      <td>001</td>\n",
       "      <td>78.5</td>\n",
       "      <td>67.0</td>\n",
       "      <td>75.43</td>\n",
       "      <td>4</td>\n",
       "      <td>2</td>\n",
       "      <td>0</td>\n",
       "      <td>69.2</td>\n",
       "    </tr>\n",
       "    <tr>\n",
       "      <th>2</th>\n",
       "      <td>3</td>\n",
       "      <td>001</td>\n",
       "      <td>78.5</td>\n",
       "      <td>67.0</td>\n",
       "      <td>75.43</td>\n",
       "      <td>4</td>\n",
       "      <td>3</td>\n",
       "      <td>0</td>\n",
       "      <td>69.0</td>\n",
       "    </tr>\n",
       "    <tr>\n",
       "      <th>3</th>\n",
       "      <td>4</td>\n",
       "      <td>001</td>\n",
       "      <td>78.5</td>\n",
       "      <td>67.0</td>\n",
       "      <td>75.43</td>\n",
       "      <td>4</td>\n",
       "      <td>4</td>\n",
       "      <td>0</td>\n",
       "      <td>69.0</td>\n",
       "    </tr>\n",
       "    <tr>\n",
       "      <th>4</th>\n",
       "      <td>5</td>\n",
       "      <td>002</td>\n",
       "      <td>75.5</td>\n",
       "      <td>66.5</td>\n",
       "      <td>73.66</td>\n",
       "      <td>4</td>\n",
       "      <td>1</td>\n",
       "      <td>1</td>\n",
       "      <td>73.5</td>\n",
       "    </tr>\n",
       "  </tbody>\n",
       "</table>\n",
       "</div>"
      ],
      "text/plain": [
       "   Unnamed: 0 family  father  mother  midparentHeight  children  childNum  \\\n",
       "0           1    001    78.5    67.0            75.43         4         1   \n",
       "1           2    001    78.5    67.0            75.43         4         2   \n",
       "2           3    001    78.5    67.0            75.43         4         3   \n",
       "3           4    001    78.5    67.0            75.43         4         4   \n",
       "4           5    002    75.5    66.5            73.66         4         1   \n",
       "\n",
       "   gender  childHeight  \n",
       "0       1         73.2  \n",
       "1       0         69.2  \n",
       "2       0         69.0  \n",
       "3       0         69.0  \n",
       "4       1         73.5  "
      ]
     },
     "execution_count": 23,
     "metadata": {},
     "output_type": "execute_result"
    }
   ],
   "source": [
    "data.head()"
   ]
  },
  {
   "cell_type": "code",
   "execution_count": null,
   "metadata": {},
   "outputs": [],
   "source": []
  },
  {
   "cell_type": "markdown",
   "metadata": {
    "ExecuteTime": {
     "end_time": "2020-05-04T13:04:41.259091Z",
     "start_time": "2020-05-04T13:04:41.242238Z"
    }
   },
   "source": [
    "Linear model"
   ]
  },
  {
   "cell_type": "code",
   "execution_count": 204,
   "metadata": {
    "ExecuteTime": {
     "end_time": "2020-05-04T13:51:17.538172Z",
     "start_time": "2020-05-04T13:51:07.043595Z"
    }
   },
   "outputs": [
    {
     "name": "stdout",
     "output_type": "stream",
     "text": [
      "4.711088472868898\n",
      "0.2334503888895037\n"
     ]
    }
   ],
   "source": [
    "nrep=2000\n",
    "MSE=list()\n",
    "for i in range(nrep):\n",
    "    X_train, X_test, y_train, y_test = train_test_split(data[['father','mother','children','gender']],\n",
    "                                                    data['childHeight'], test_size=200, random_state=None)    \n",
    "    regr = linear_model.LinearRegression(copy_X=True,fit_intercept=True,n_jobs=1,normalize=False)\n",
    "    regr.fit(X_train,y_train)\n",
    "    pred = regr.predict(X_test)\n",
    "    mse = mean_squared_error(y_test,pred)\n",
    "    MSE.append(mse)\n",
    "print(np.mean(MSE))\n",
    "print(np.var(MSE))"
   ]
  },
  {
   "cell_type": "code",
   "execution_count": 203,
   "metadata": {
    "ExecuteTime": {
     "end_time": "2020-05-04T13:51:02.022099Z",
     "start_time": "2020-05-04T13:50:51.935185Z"
    }
   },
   "outputs": [
    {
     "name": "stdout",
     "output_type": "stream",
     "text": [
      "4.726804059954536\n",
      "0.21707089806154187\n"
     ]
    }
   ],
   "source": [
    "nrep=2000\n",
    "MSE=list()\n",
    "for i in range(nrep):\n",
    "    X_train, X_test, y_train, y_test = train_test_split(data[['father','mother','children','gender']],\n",
    "                                                    data['childHeight'], test_size=200, random_state=None)    \n",
    "    regr = linear_model.Ridge(alpha=0.5)\n",
    "    regr.fit(X_train,y_train)\n",
    "    pred = regr.predict(X_test)\n",
    "    mse = mean_squared_error(y_test,pred)\n",
    "    MSE.append(mse)\n",
    "print(np.mean(MSE))\n",
    "print(np.var(MSE))"
   ]
  },
  {
   "cell_type": "code",
   "execution_count": 301,
   "metadata": {
    "ExecuteTime": {
     "end_time": "2020-05-04T15:25:19.608776Z",
     "start_time": "2020-05-04T15:25:14.672764Z"
    }
   },
   "outputs": [
    {
     "name": "stdout",
     "output_type": "stream",
     "text": [
      "4.724322127547234\n",
      "0.23100144121586141\n"
     ]
    }
   ],
   "source": [
    "nrep=1000\n",
    "MSE=list()\n",
    "for i in range(nrep):\n",
    "    X_train, X_test, y_train, y_test = train_test_split(data[['father','mother','children','gender']],\n",
    "                                                    data['childHeight'], test_size=200, random_state=None)    \n",
    "    regr = linear_model.Lasso(alpha=0.01)\n",
    "    regr.fit(X_train,y_train)\n",
    "    pred = regr.predict(X_test)\n",
    "    mse = mean_squared_error(y_test,pred)\n",
    "    MSE.append(mse)\n",
    "print(np.mean(MSE))\n",
    "print(np.var(MSE))"
   ]
  },
  {
   "cell_type": "code",
   "execution_count": 201,
   "metadata": {
    "ExecuteTime": {
     "end_time": "2020-05-04T13:50:18.219963Z",
     "start_time": "2020-05-04T13:50:07.537078Z"
    }
   },
   "outputs": [
    {
     "name": "stdout",
     "output_type": "stream",
     "text": [
      "4.701507582232127\n",
      "0.21599776192577608\n"
     ]
    }
   ],
   "source": [
    "nrep=2000\n",
    "MSE=list()\n",
    "for i in range(nrep):\n",
    "    X_train, X_test, y_train, y_test = train_test_split(data[['father','mother','children','gender']],\n",
    "                                                    data['childHeight'], test_size=200, random_state=None)    \n",
    "    regr = linear_model.Lars()\n",
    "    regr.fit(X_train,y_train)\n",
    "    pred = regr.predict(X_test)\n",
    "    mse = mean_squared_error(y_test,pred)\n",
    "    MSE.append(mse)\n",
    "print(np.mean(MSE))\n",
    "print(np.var(MSE))"
   ]
  },
  {
   "cell_type": "code",
   "execution_count": 141,
   "metadata": {
    "ExecuteTime": {
     "end_time": "2020-05-04T13:29:52.625357Z",
     "start_time": "2020-05-04T13:29:52.359139Z"
    }
   },
   "outputs": [
    {
     "data": {
      "text/plain": [
       "6.356443420124792"
      ]
     },
     "execution_count": 141,
     "metadata": {},
     "output_type": "execute_result"
    }
   ],
   "source": [
    "nrep=50\n",
    "MSE=list()\n",
    "for i in range(nrep):\n",
    "    X_train, X_test, y_train, y_test = train_test_split(data[['father','mother','children','gender']],\n",
    "                                                    data['childHeight'], test_size=200, random_state=None)    \n",
    "    regr = linear_model.OrthogonalMatchingPursuit()\n",
    "    regr.fit(X_train,y_train)\n",
    "    pred = regr.predict(X_test)\n",
    "    mse = mean_squared_error(y_test,pred)\n",
    "    MSE.append(mse)\n",
    "np.mean(MSE)"
   ]
  },
  {
   "cell_type": "code",
   "execution_count": 304,
   "metadata": {
    "ExecuteTime": {
     "end_time": "2020-05-04T15:26:34.162102Z",
     "start_time": "2020-05-04T15:26:28.616914Z"
    }
   },
   "outputs": [
    {
     "name": "stdout",
     "output_type": "stream",
     "text": [
      "4.68963627868591\n",
      "0.21621432290413062\n"
     ]
    }
   ],
   "source": [
    "nrep=1000\n",
    "MSE=list()\n",
    "for i in range(nrep):\n",
    "    X_train, X_test, y_train, y_test = train_test_split(data[['father','mother','children','gender']],\n",
    "                                                    data['childHeight'], test_size=200, random_state=None)    \n",
    "    regr = linear_model.BayesianRidge(alpha_1=0.1,alpha_2=0.1)\n",
    "    regr.fit(X_train,y_train)\n",
    "    pred = regr.predict(X_test)\n",
    "    mse = mean_squared_error(y_test,pred)\n",
    "    MSE.append(mse)\n",
    "print(np.mean(MSE))\n",
    "print(np.var(MSE))"
   ]
  },
  {
   "cell_type": "code",
   "execution_count": 208,
   "metadata": {
    "ExecuteTime": {
     "end_time": "2020-05-04T13:52:52.252252Z",
     "start_time": "2020-05-04T13:52:40.863706Z"
    }
   },
   "outputs": [
    {
     "name": "stdout",
     "output_type": "stream",
     "text": [
      "4.7621473846777125\n",
      "0.22024636535140943\n"
     ]
    }
   ],
   "source": [
    "nrep=2000\n",
    "MSE=list()\n",
    "for i in range(nrep):\n",
    "    X_train, X_test, y_train, y_test = train_test_split(data[['father','mother','children','gender']],\n",
    "                                                    data['childHeight'], test_size=200, random_state=None)    \n",
    "    regr = linear_model.ElasticNet(alpha=0.1, l1_ratio=1)\n",
    "    regr.fit(X_train,y_train)\n",
    "    pred = regr.predict(X_test)\n",
    "    mse = mean_squared_error(y_test,pred)\n",
    "    MSE.append(mse)\n",
    "print(np.mean(MSE))\n",
    "print(np.var(MSE))"
   ]
  },
  {
   "cell_type": "code",
   "execution_count": 409,
   "metadata": {
    "ExecuteTime": {
     "end_time": "2020-05-04T16:12:56.767577Z",
     "start_time": "2020-05-04T16:12:56.756038Z"
    }
   },
   "outputs": [
    {
     "ename": "SyntaxError",
     "evalue": "invalid syntax (<ipython-input-409-0b0fea8e71d5>, line 12)",
     "output_type": "error",
     "traceback": [
      "\u001b[0;36m  File \u001b[0;32m\"<ipython-input-409-0b0fea8e71d5>\"\u001b[0;36m, line \u001b[0;32m12\u001b[0m\n\u001b[0;31m    print(np.var(MSE/)/10000)\u001b[0m\n\u001b[0m                     ^\u001b[0m\n\u001b[0;31mSyntaxError\u001b[0m\u001b[0;31m:\u001b[0m invalid syntax\n"
     ]
    }
   ],
   "source": [
    "nrep=2000\n",
    "MSE=list()\n",
    "for i in range(nrep):\n",
    "    X_train, X_test, y_train, y_test = train_test_split(data[['father','mother','children','gender']],\n",
    "                                                    data['childHeight']*10, test_size=200, random_state=None)    \n",
    "    regr = linear_model.PassiveAggressiveClassifier(max_iter=1000, random_state=0,tol=1e-3)\n",
    "    regr.fit(X_train,y_train)\n",
    "    pred = regr.predict(X_test)\n",
    "    mse = mean_squared_error(y_test,pred)\n",
    "    MSE.append(mse)\n",
    "print(np.mean(MSE)/100)\n",
    "print(np.var(MSE/)/10000)"
   ]
  },
  {
   "cell_type": "code",
   "execution_count": 217,
   "metadata": {
    "ExecuteTime": {
     "end_time": "2020-05-04T14:05:10.102304Z",
     "start_time": "2020-05-04T14:04:33.071075Z"
    }
   },
   "outputs": [
    {
     "name": "stdout",
     "output_type": "stream",
     "text": [
      "0\n",
      "1\n",
      "2\n",
      "3\n",
      "4\n",
      "5\n",
      "6\n",
      "7\n",
      "8\n",
      "9\n",
      "10\n",
      "11\n",
      "12\n",
      "13\n",
      "14\n",
      "15\n",
      "16\n",
      "17\n",
      "18\n",
      "19\n",
      "20\n",
      "21\n",
      "22\n",
      "23\n",
      "24\n",
      "25\n",
      "26\n",
      "27\n",
      "28\n",
      "29\n",
      "30\n",
      "31\n",
      "32\n",
      "33\n",
      "34\n",
      "35\n",
      "36\n",
      "37\n",
      "38\n",
      "39\n",
      "40\n",
      "41\n",
      "42\n",
      "43\n",
      "44\n",
      "45\n",
      "46\n",
      "47\n",
      "48\n",
      "49\n",
      "4.876686567713663\n",
      "0.16814323499607997\n"
     ]
    }
   ],
   "source": [
    "nrep=50\n",
    "MSE=list()\n",
    "for i in range(nrep):\n",
    "    if i%50==0:    \n",
    "        print(i)\n",
    "    X_train, X_test, y_train, y_test = train_test_split(data[['father','mother','children','gender']],\n",
    "                                                    data['childHeight'], test_size=200, random_state=None)    \n",
    "    regr = linear_model.TheilSenRegressor()\n",
    "    regr.fit(X_train,y_train)\n",
    "    pred = regr.predict(X_test)\n",
    "    mse = mean_squared_error(y_test,pred)\n",
    "    MSE.append(mse)\n",
    "print(np.mean(MSE))\n",
    "print(np.var(MSE))"
   ]
  },
  {
   "cell_type": "code",
   "execution_count": 218,
   "metadata": {
    "ExecuteTime": {
     "end_time": "2020-05-04T14:06:57.787343Z",
     "start_time": "2020-05-04T14:06:56.245694Z"
    }
   },
   "outputs": [
    {
     "name": "stdout",
     "output_type": "stream",
     "text": [
      "0\n",
      "1\n",
      "2\n",
      "3\n",
      "4\n",
      "5\n",
      "6\n",
      "7\n",
      "8\n",
      "9\n",
      "10\n",
      "11\n",
      "12\n",
      "13\n",
      "14\n",
      "15\n",
      "16\n",
      "17\n",
      "18\n",
      "19\n",
      "20\n",
      "21\n",
      "22\n",
      "23\n",
      "24\n",
      "25\n",
      "26\n",
      "27\n",
      "28\n",
      "29\n",
      "30\n",
      "31\n",
      "32\n",
      "33\n",
      "34\n",
      "35\n",
      "36\n",
      "37\n",
      "38\n",
      "39\n",
      "40\n",
      "41\n",
      "42\n",
      "43\n",
      "44\n",
      "45\n",
      "46\n",
      "47\n",
      "48\n",
      "49\n",
      "5.727607985092345\n",
      "0.5568954497386872\n"
     ]
    }
   ],
   "source": [
    "nrep=50\n",
    "MSE=list()\n",
    "for i in range(nrep):\n",
    "    print(i)\n",
    "    X_train, X_test, y_train, y_test = train_test_split(data[['father','mother','children','gender']],\n",
    "                                                    data['childHeight'], test_size=200, random_state=None)    \n",
    "    regr = linear_model.RANSACRegressor()\n",
    "    regr.fit(X_train,y_train)\n",
    "    pred = regr.predict(X_test)\n",
    "    mse = mean_squared_error(y_test,pred)\n",
    "    MSE.append(mse)\n",
    "print(np.mean(MSE))\n",
    "print(np.var(MSE))"
   ]
  },
  {
   "cell_type": "code",
   "execution_count": 220,
   "metadata": {
    "ExecuteTime": {
     "end_time": "2020-05-04T14:08:10.263636Z",
     "start_time": "2020-05-04T14:07:42.644912Z"
    }
   },
   "outputs": [
    {
     "name": "stdout",
     "output_type": "stream",
     "text": [
      "0\n",
      "50\n",
      "100\n",
      "150\n",
      "200\n",
      "250\n",
      "300\n",
      "350\n",
      "400\n",
      "450\n",
      "500\n",
      "550\n",
      "600\n",
      "650\n",
      "700\n",
      "750\n",
      "800\n",
      "850\n",
      "900\n",
      "950\n",
      "4.687549251015047\n",
      "0.2087107582106661\n"
     ]
    }
   ],
   "source": [
    "nrep=1000\n",
    "MSE=list()\n",
    "for i in range(nrep):\n",
    "    if i%50==0:    \n",
    "        print(i)\n",
    "    X_train, X_test, y_train, y_test = train_test_split(data[['father','mother','children','gender']],\n",
    "                                                    data['childHeight'], test_size=200, random_state=None)    \n",
    "    regr = linear_model.HuberRegressor()\n",
    "    regr.fit(X_train,y_train)\n",
    "    pred = regr.predict(X_test)\n",
    "    mse = mean_squared_error(y_test,pred)\n",
    "    MSE.append(mse)\n",
    "print(np.mean(MSE))\n",
    "print(np.var(MSE))"
   ]
  },
  {
   "cell_type": "code",
   "execution_count": 225,
   "metadata": {
    "ExecuteTime": {
     "end_time": "2020-05-04T14:12:22.217537Z",
     "start_time": "2020-05-04T14:12:15.404402Z"
    }
   },
   "outputs": [
    {
     "name": "stdout",
     "output_type": "stream",
     "text": [
      "0\n",
      "50\n",
      "100\n",
      "150\n",
      "200\n",
      "250\n",
      "300\n",
      "350\n",
      "400\n",
      "450\n",
      "500\n",
      "550\n",
      "600\n",
      "650\n",
      "700\n",
      "750\n",
      "800\n",
      "850\n",
      "900\n",
      "950\n",
      "4.685622932544952\n",
      "0.21107130994220072\n"
     ]
    }
   ],
   "source": [
    "from sklearn.preprocessing import PolynomialFeatures\n",
    "from sklearn.linear_model import LinearRegression\n",
    "from sklearn.pipeline import Pipeline\n",
    "nrep=1000\n",
    "MSE=list()\n",
    "\n",
    "for i in range(nrep):\n",
    "    if i%50==0:    \n",
    "        print(i)\n",
    "    \n",
    "    X_train, X_test, y_train, y_test = train_test_split(data[['father','mother','children','gender']],\n",
    "                                                    data['childHeight'], test_size=200, random_state=None)    \n",
    "    model = Pipeline([('poly', PolynomialFeatures(degree=1,interaction_only=True)),\n",
    "                   ('linear', LinearRegression(fit_intercept=False))])\n",
    "    regr = model\n",
    "    regr.fit(X_train,y_train)\n",
    "    pred = regr.predict(X_test)\n",
    "    mse = mean_squared_error(y_test,pred)\n",
    "    MSE.append(mse)\n",
    "print(np.mean(MSE))\n",
    "print(np.var(MSE))"
   ]
  },
  {
   "cell_type": "code",
   "execution_count": 228,
   "metadata": {
    "ExecuteTime": {
     "end_time": "2020-05-04T14:18:38.247550Z",
     "start_time": "2020-05-04T14:17:37.466184Z"
    }
   },
   "outputs": [
    {
     "name": "stdout",
     "output_type": "stream",
     "text": [
      "0\n",
      "50\n",
      "100\n",
      "150\n",
      "200\n",
      "250\n",
      "300\n",
      "350\n",
      "400\n",
      "450\n",
      "500\n",
      "550\n",
      "600\n",
      "650\n",
      "700\n",
      "750\n",
      "800\n",
      "850\n",
      "900\n",
      "950\n",
      "6.603690049999999\n",
      "0.5627490557384974\n"
     ]
    }
   ],
   "source": [
    "from sklearn.discriminant_analysis import LinearDiscriminantAnalysis\n",
    "import warnings\n",
    " \n",
    "warnings.filterwarnings('ignore')\n",
    "nrep=1000\n",
    "MSE=list()\n",
    "for i in range(nrep):\n",
    "    if i%50==0:    \n",
    "        print(i)\n",
    "    X_train, X_test, y_train, y_test = train_test_split(data[['father','mother','children','gender']],\n",
    "                                                    data['childHeight']*10, test_size=200, random_state=None)    \n",
    "    regr = LinearDiscriminantAnalysis(solver='eigen',shrinkage='auto')\n",
    "    regr.fit(X_train,y_train)\n",
    "    pred = regr.predict(X_test)\n",
    "    mse = mean_squared_error(y_test,pred)\n",
    "    MSE.append(mse)\n",
    "print(np.mean(MSE)/100)\n",
    "print(np.var(MSE)/10000)"
   ]
  },
  {
   "cell_type": "code",
   "execution_count": 230,
   "metadata": {
    "ExecuteTime": {
     "end_time": "2020-05-04T14:20:59.942042Z",
     "start_time": "2020-05-04T14:20:40.853282Z"
    }
   },
   "outputs": [
    {
     "name": "stdout",
     "output_type": "stream",
     "text": [
      "0\n",
      "50\n",
      "100\n",
      "150\n",
      "200\n",
      "250\n",
      "300\n",
      "350\n",
      "400\n",
      "450\n",
      "500\n",
      "550\n",
      "600\n",
      "650\n",
      "700\n",
      "750\n",
      "800\n",
      "850\n",
      "900\n",
      "950\n",
      "4.8910814838079695\n",
      "0.2502912875939633\n"
     ]
    }
   ],
   "source": [
    "from sklearn.kernel_ridge import KernelRidge\n",
    "krr=KernelRidge(alpha=1.0)\n",
    "nrep=1000\n",
    "MSE=list()\n",
    "for i in range(nrep):\n",
    "    if i%50==0:    \n",
    "        print(i)\n",
    "    X_train, X_test, y_train, y_test = train_test_split(data[['father','mother','children','gender']],\n",
    "                                                    data['childHeight'], test_size=200, random_state=None)    \n",
    "    regr=KernelRidge(alpha=0.5)\n",
    "    regr.fit(X_train,y_train)\n",
    "    pred = regr.predict(X_test)\n",
    "    mse = mean_squared_error(y_test,pred)\n",
    "    MSE.append(mse)\n",
    "print(np.mean(MSE))\n",
    "print(np.var(MSE))"
   ]
  },
  {
   "cell_type": "code",
   "execution_count": 419,
   "metadata": {
    "ExecuteTime": {
     "end_time": "2020-05-04T16:23:40.105309Z",
     "start_time": "2020-05-04T16:22:42.892236Z"
    }
   },
   "outputs": [
    {
     "name": "stdout",
     "output_type": "stream",
     "text": [
      "0\n",
      "100\n",
      "200\n",
      "300\n",
      "400\n",
      "500\n",
      "600\n",
      "700\n",
      "800\n",
      "900\n",
      "4.73382282911548\n",
      "0.2341991822559452\n"
     ]
    }
   ],
   "source": [
    "from sklearn.svm import LinearSVR,SVR\n",
    "nrep=1000\n",
    "MSE=list()\n",
    "for i in range(nrep):\n",
    "    if i%100==0:    \n",
    "        print(i)\n",
    "    X_train, X_test, y_train, y_test = train_test_split(data[['father','mother','children','gender']],\n",
    "                                                    data['childHeight'], test_size=200, random_state=None)    \n",
    "    regr = SVR(degree=1,kernel='linear')\n",
    "    regr.fit(X_train,y_train)\n",
    "    pred = regr.predict(X_test)\n",
    "    mse = mean_squared_error(y_test,pred)\n",
    "    MSE.append(mse)\n",
    "print(np.mean(MSE))\n",
    "print(np.var(MSE))"
   ]
  },
  {
   "cell_type": "code",
   "execution_count": 233,
   "metadata": {
    "ExecuteTime": {
     "end_time": "2020-05-04T14:23:46.238922Z",
     "start_time": "2020-05-04T14:23:09.952235Z"
    }
   },
   "outputs": [
    {
     "name": "stdout",
     "output_type": "stream",
     "text": [
      "0\n",
      "50\n",
      "100\n",
      "150\n",
      "200\n",
      "250\n",
      "300\n",
      "350\n",
      "400\n",
      "450\n",
      "500\n",
      "550\n",
      "600\n",
      "650\n",
      "700\n",
      "750\n",
      "800\n",
      "850\n",
      "900\n",
      "950\n",
      "9.639094336898804\n",
      "43.16919776467048\n"
     ]
    }
   ],
   "source": [
    "from sklearn.svm import LinearSVR,SVR\n",
    "nrep=1000\n",
    "MSE=list()\n",
    "for i in range(nrep):\n",
    "    if i%50==0:    \n",
    "        print(i)\n",
    "    X_train, X_test, y_train, y_test = train_test_split(data[['father','mother','children','gender']],\n",
    "                                                    data['childHeight'], test_size=200, random_state=None)    \n",
    "    regr = LinearSVR()\n",
    "    regr.fit(X_train,y_train)\n",
    "    pred = regr.predict(X_test)\n",
    "    mse = mean_squared_error(y_test,pred)\n",
    "    MSE.append(mse)\n",
    "print(np.mean(MSE))\n",
    "print(np.var(MSE))"
   ]
  },
  {
   "cell_type": "code",
   "execution_count": 413,
   "metadata": {
    "ExecuteTime": {
     "end_time": "2020-05-04T16:17:11.870022Z",
     "start_time": "2020-05-04T16:17:05.803955Z"
    }
   },
   "outputs": [
    {
     "name": "stdout",
     "output_type": "stream",
     "text": [
      "0\n",
      "50\n",
      "100\n",
      "150\n",
      "200\n",
      "250\n",
      "300\n",
      "350\n",
      "400\n",
      "450\n",
      "500\n",
      "550\n",
      "600\n",
      "650\n",
      "700\n",
      "750\n",
      "800\n",
      "850\n",
      "900\n",
      "950\n",
      "8.287381922\n",
      "0.6691184981377818\n"
     ]
    }
   ],
   "source": [
    "from sklearn.neighbors import KNeighborsRegressor\n",
    "nrep=1000\n",
    "MSE=list()\n",
    "for i in range(nrep):\n",
    "    if i%50==0:    \n",
    "        print(i)\n",
    "    X_train, X_test, y_train, y_test = train_test_split(data[['father','mother','children','gender']],\n",
    "                                                    data['childHeight'], test_size=200, random_state=None)    \n",
    "    regr = KNeighborsRegressor(n_neighbors=5)\n",
    "    regr.fit(X_train,y_train)\n",
    "    pred = regr.predict(X_test)\n",
    "    mse = mean_squared_error(y_test,pred)\n",
    "    MSE.append(mse)\n",
    "print(np.mean(MSE))\n",
    "print(np.var(MSE))"
   ]
  },
  {
   "cell_type": "code",
   "execution_count": 236,
   "metadata": {
    "ExecuteTime": {
     "end_time": "2020-05-04T14:29:44.603727Z",
     "start_time": "2020-05-04T14:29:38.645661Z"
    }
   },
   "outputs": [
    {
     "name": "stdout",
     "output_type": "stream",
     "text": [
      "0\n",
      "100\n",
      "200\n",
      "300\n",
      "400\n",
      "500\n",
      "600\n",
      "700\n",
      "800\n",
      "900\n",
      "4.727008580261127\n",
      "0.23721009980926977\n"
     ]
    }
   ],
   "source": [
    "from sklearn.preprocessing import StandardScaler\n",
    "\n",
    "nrep=1000\n",
    "MSE=list()\n",
    "\n",
    "for i in range(nrep):\n",
    "    if i%100==0:    \n",
    "        print(i)\n",
    "    X_train, X_test, y_train, y_test = train_test_split(data[['father','mother','children','gender']],\n",
    "                                                    data['childHeight'], test_size=200, random_state=None)    \n",
    "    scaler = StandardScaler()\n",
    "    scaler.fit(X_train)  # Don't cheat - fit only on training data\n",
    "    X_train = scaler.transform(X_train)\n",
    "    X_test = scaler.transform(X_test)  # apply same transformation to test data    \n",
    "    regr = linear_model.SGDRegressor()\n",
    "    regr.fit(X_train,y_train)\n",
    "    pred = regr.predict(X_test)\n",
    "    mse = mean_squared_error(y_test,pred)\n",
    "    MSE.append(mse)\n",
    "print(np.mean(MSE))\n",
    "print(np.var(MSE))"
   ]
  },
  {
   "cell_type": "code",
   "execution_count": 242,
   "metadata": {
    "ExecuteTime": {
     "end_time": "2020-05-04T15:01:37.935465Z",
     "start_time": "2020-05-04T15:01:05.325836Z"
    }
   },
   "outputs": [
    {
     "name": "stdout",
     "output_type": "stream",
     "text": [
      "0\n",
      "50\n",
      "100\n",
      "150\n",
      "200\n",
      "250\n",
      "300\n",
      "350\n",
      "400\n",
      "450\n",
      "500\n",
      "550\n",
      "600\n",
      "650\n",
      "700\n",
      "750\n",
      "800\n",
      "850\n",
      "900\n",
      "950\n",
      "57.49059736863237\n",
      "682.2678546918972\n"
     ]
    }
   ],
   "source": [
    "from sklearn.gaussian_process import GaussianProcessRegressor\n",
    "nrep=1000\n",
    "MSE=list()\n",
    "for i in range(nrep):\n",
    "    if i%50==0:    \n",
    "        print(i)\n",
    "    X_train, X_test, y_train, y_test = train_test_split(data[['father','mother','children','gender']],\n",
    "                                                    data['childHeight'], test_size=200, random_state=None)    \n",
    "    regr = GaussianProcessRegressor()\n",
    "    regr.fit(X_train,y_train)\n",
    "    pred = regr.predict(X_test)\n",
    "    mse = mean_squared_error(y_test,pred)\n",
    "    MSE.append(mse)\n",
    "print(np.mean(MSE))\n",
    "print(np.var(MSE))"
   ]
  },
  {
   "cell_type": "code",
   "execution_count": 245,
   "metadata": {
    "ExecuteTime": {
     "end_time": "2020-05-04T15:05:10.188356Z",
     "start_time": "2020-05-04T15:04:46.064131Z"
    }
   },
   "outputs": [
    {
     "name": "stdout",
     "output_type": "stream",
     "text": [
      "0\n",
      "4475.865186000001\n",
      "777.0394547553062\n"
     ]
    }
   ],
   "source": [
    "from sklearn.gaussian_process.kernels import DotProduct, WhiteKernel\n",
    "\n",
    "from sklearn.gaussian_process import GaussianProcessRegressor\n",
    "\n",
    "nrep=50\n",
    "MSE=list()\n",
    "for i in range(nrep):\n",
    "    if i%50==0:    \n",
    "        print(i)\n",
    "    X_train, X_test, y_train, y_test = train_test_split(data[['father','mother','children','gender']],\n",
    "                                                    data['childHeight'], test_size=200, random_state=None)    \n",
    "    kernel = DotProduct() + WhiteKernel()\n",
    "    regr = GaussianProcessRegressor(kernel=WhiteKernel())\n",
    "    regr.fit(X_train,y_train)\n",
    "    pred = regr.predict(X_test)\n",
    "    mse = mean_squared_error(y_test,pred)\n",
    "    MSE.append(mse)\n",
    "print(np.mean(MSE))\n",
    "print(np.var(MSE))"
   ]
  },
  {
   "cell_type": "code",
   "execution_count": 248,
   "metadata": {
    "ExecuteTime": {
     "end_time": "2020-05-04T15:06:03.488902Z",
     "start_time": "2020-05-04T15:06:02.824971Z"
    }
   },
   "outputs": [
    {
     "name": "stdout",
     "output_type": "stream",
     "text": [
      "0\n",
      "11.113803\n",
      "1.2951458439409997\n"
     ]
    }
   ],
   "source": [
    "from sklearn.naive_bayes import GaussianNB\n",
    "nrep=50\n",
    "MSE=list()\n",
    "for i in range(nrep):\n",
    "    if i%50==0:    \n",
    "        print(i)\n",
    "    X_train, X_test, y_train, y_test = train_test_split(data[['father','mother','children','gender']],\n",
    "                                                    data['childHeight']*10, test_size=200, random_state=None)    \n",
    "    regr = GaussianNB()\n",
    "    regr.fit(X_train,y_train)\n",
    "    pred = regr.predict(X_test)\n",
    "    mse = mean_squared_error(y_test,pred)\n",
    "    MSE.append(mse)\n",
    "print(np.mean(MSE)/100)\n",
    "print(np.var(MSE)/10000)"
   ]
  },
  {
   "cell_type": "code",
   "execution_count": 250,
   "metadata": {
    "ExecuteTime": {
     "end_time": "2020-05-04T15:06:27.440322Z",
     "start_time": "2020-05-04T15:06:27.103991Z"
    }
   },
   "outputs": [
    {
     "name": "stdout",
     "output_type": "stream",
     "text": [
      "0\n",
      "6.9665409999999985\n",
      "0.44779177616899996\n"
     ]
    }
   ],
   "source": [
    "from sklearn.naive_bayes import BernoulliNB\n",
    "nrep=50\n",
    "MSE=list()\n",
    "for i in range(nrep):\n",
    "    if i%50==0:    \n",
    "        print(i)\n",
    "    X_train, X_test, y_train, y_test = train_test_split(data[['father','mother','children','gender']],\n",
    "                                                    data['childHeight']*10, test_size=200, random_state=None)    \n",
    "    regr = BernoulliNB()\n",
    "    regr.fit(X_train,y_train)\n",
    "    pred = regr.predict(X_test)\n",
    "    mse = mean_squared_error(y_test,pred)\n",
    "    MSE.append(mse)\n",
    "print(np.mean(MSE)/100)\n",
    "print(np.var(MSE)/10000)"
   ]
  },
  {
   "cell_type": "code",
   "execution_count": 252,
   "metadata": {
    "ExecuteTime": {
     "end_time": "2020-05-04T15:07:59.978209Z",
     "start_time": "2020-05-04T15:07:54.463993Z"
    }
   },
   "outputs": [
    {
     "name": "stdout",
     "output_type": "stream",
     "text": [
      "0\n",
      "50\n",
      "100\n",
      "150\n",
      "200\n",
      "250\n",
      "300\n",
      "350\n",
      "400\n",
      "450\n",
      "500\n",
      "550\n",
      "600\n",
      "650\n",
      "700\n",
      "750\n",
      "800\n",
      "850\n",
      "900\n",
      "950\n",
      "6.198392783781526\n",
      "0.4898163804065906\n"
     ]
    }
   ],
   "source": [
    "from sklearn import tree\n",
    "nrep=1000\n",
    "MSE=list()\n",
    "for i in range(nrep):\n",
    "    if i%50==0:    \n",
    "        print(i)\n",
    "    X_train, X_test, y_train, y_test = train_test_split(data[['father','mother','children','gender']],\n",
    "                                                    data['childHeight'], test_size=200, random_state=None)    \n",
    "    regr = tree.ExtraTreeRegressor()\n",
    "    regr.fit(X_train,y_train)\n",
    "    pred = regr.predict(X_test)\n",
    "    mse = mean_squared_error(y_test,pred)\n",
    "    MSE.append(mse)\n",
    "print(np.mean(MSE))\n",
    "print(np.var(MSE))"
   ]
  },
  {
   "cell_type": "code",
   "execution_count": 253,
   "metadata": {
    "ExecuteTime": {
     "end_time": "2020-05-04T15:08:42.889380Z",
     "start_time": "2020-05-04T15:08:37.150025Z"
    }
   },
   "outputs": [
    {
     "name": "stdout",
     "output_type": "stream",
     "text": [
      "0\n",
      "50\n",
      "100\n",
      "150\n",
      "200\n",
      "250\n",
      "300\n",
      "350\n",
      "400\n",
      "450\n",
      "500\n",
      "550\n",
      "600\n",
      "650\n",
      "700\n",
      "750\n",
      "800\n",
      "850\n",
      "900\n",
      "950\n",
      "6.203284607791613\n",
      "0.494167274908174\n"
     ]
    }
   ],
   "source": [
    "from sklearn import tree\n",
    "\n"
   ]
  },
  {
   "cell_type": "code",
   "execution_count": 302,
   "metadata": {
    "ExecuteTime": {
     "end_time": "2020-05-04T15:25:25.210278Z",
     "start_time": "2020-05-04T15:25:20.128127Z"
    }
   },
   "outputs": [
    {
     "name": "stdout",
     "output_type": "stream",
     "text": [
      "0\n",
      "5.214982483534837\n",
      "0.36036290332554377\n"
     ]
    }
   ],
   "source": [
    "from sklearn.ensemble import RandomForestRegressor\n",
    "nrep=50\n",
    "MSE=list()\n",
    "for i in range(nrep):\n",
    "    if i%50==0:    \n",
    "        print(i)\n",
    "    X_train, X_test, y_train, y_test = train_test_split(data[['father','mother','children','gender']],\n",
    "                                                    data['childHeight'], test_size=200, random_state=None)    \n",
    "    regr = RandomForestRegressor(n_estimators=50)\n",
    "    regr.fit(X_train,y_train)\n",
    "    pred = regr.predict(X_test)\n",
    "    mse = mean_squared_error(y_test,pred)\n",
    "    MSE.append(mse)\n",
    "print(np.mean(MSE))\n",
    "print(np.var(MSE))"
   ]
  },
  {
   "cell_type": "code",
   "execution_count": 258,
   "metadata": {
    "ExecuteTime": {
     "end_time": "2020-05-04T15:11:20.272997Z",
     "start_time": "2020-05-04T15:11:19.139089Z"
    }
   },
   "outputs": [
    {
     "name": "stdout",
     "output_type": "stream",
     "text": [
      "0\n",
      "5.385482305423924\n",
      "0.2259353091504222\n"
     ]
    }
   ],
   "source": [
    "from sklearn.ensemble import BaggingRegressor\n",
    "from sklearn.tree import DecisionTreeRegressor\n",
    "nrep=50\n",
    "MSE=list()\n",
    "for i in range(nrep):\n",
    "    if i%50==0:    \n",
    "        print(i)\n",
    "    X_train, X_test, y_train, y_test = train_test_split(data[['father','mother','children','gender']],\n",
    "                                                    data['childHeight'], test_size=200, random_state=None)    \n",
    "    regr = BaggingRegressor(DecisionTreeRegressor())\n",
    "    regr.fit(X_train,y_train)\n",
    "    pred = regr.predict(X_test)\n",
    "    mse = mean_squared_error(y_test,pred)\n",
    "    MSE.append(mse)\n",
    "print(np.mean(MSE))\n",
    "print(np.var(MSE))"
   ]
  },
  {
   "cell_type": "code",
   "execution_count": 264,
   "metadata": {
    "ExecuteTime": {
     "end_time": "2020-05-04T15:12:34.876705Z",
     "start_time": "2020-05-04T15:12:33.084003Z"
    }
   },
   "outputs": [
    {
     "name": "stdout",
     "output_type": "stream",
     "text": [
      "0\n",
      "5.034285723006756\n",
      "0.2730020079925449\n"
     ]
    }
   ],
   "source": [
    "from sklearn.ensemble import AdaBoostRegressor\n",
    "nrep=50\n",
    "MSE=list()\n",
    "for i in range(nrep):\n",
    "    if i%50==0:    \n",
    "        print(i)\n",
    "    X_train, X_test, y_train, y_test = train_test_split(data[['father','mother','children','gender']],\n",
    "                                                    data['childHeight'], test_size=200, random_state=None)    \n",
    "    regr = AdaBoostRegressor(n_estimators=10000)\n",
    "    regr.fit(X_train,y_train)\n",
    "    pred = regr.predict(X_test)\n",
    "    mse = mean_squared_error(y_test,pred)\n",
    "    MSE.append(mse)\n",
    "print(np.mean(MSE))\n",
    "print(np.var(MSE))"
   ]
  },
  {
   "cell_type": "code",
   "execution_count": 277,
   "metadata": {
    "ExecuteTime": {
     "end_time": "2020-05-04T15:16:16.820074Z",
     "start_time": "2020-05-04T15:15:37.242993Z"
    }
   },
   "outputs": [
    {
     "name": "stdout",
     "output_type": "stream",
     "text": [
      "0\n",
      "50\n",
      "100\n",
      "150\n",
      "200\n",
      "250\n",
      "300\n",
      "350\n",
      "400\n",
      "450\n",
      "500\n",
      "550\n",
      "600\n",
      "650\n",
      "700\n",
      "750\n",
      "800\n",
      "850\n",
      "900\n",
      "950\n",
      "4.649169195500543\n",
      "0.24640422853043384\n"
     ]
    }
   ],
   "source": [
    "from sklearn.ensemble import GradientBoostingRegressor\n",
    "nrep=1000\n",
    "MSE=list()\n",
    "for i in range(nrep):\n",
    "    if i%50==0:    \n",
    "        print(i)\n",
    "    X_train, X_test, y_train, y_test = train_test_split(data[['father','mother','children','gender']],\n",
    "                                                    data['childHeight'], test_size=200, random_state=None)    \n",
    "    regr = GradientBoostingRegressor(n_estimators=100)\n",
    "    regr.fit(X_train,y_train)\n",
    "    pred = regr.predict(X_test)\n",
    "    mse = mean_squared_error(y_test,pred)\n",
    "    MSE.append(mse)\n",
    "print(np.mean(MSE))\n",
    "print(np.var(MSE))"
   ]
  },
  {
   "cell_type": "code",
   "execution_count": 280,
   "metadata": {
    "ExecuteTime": {
     "end_time": "2020-05-04T15:19:00.930679Z",
     "start_time": "2020-05-04T15:19:00.906730Z"
    }
   },
   "outputs": [
    {
     "ename": "ImportError",
     "evalue": "cannot import name 'HistGradientBoostingRegressor' from 'sklearn.ensemble' (/Users/raysun/anaconda3/lib/python3.7/site-packages/sklearn/ensemble/__init__.py)",
     "output_type": "error",
     "traceback": [
      "\u001b[0;31m---------------------------------------------------------------------------\u001b[0m",
      "\u001b[0;31mImportError\u001b[0m                               Traceback (most recent call last)",
      "\u001b[0;32m<ipython-input-280-3c5f8620f33d>\u001b[0m in \u001b[0;36m<module>\u001b[0;34m\u001b[0m\n\u001b[0;32m----> 1\u001b[0;31m \u001b[0;32mfrom\u001b[0m \u001b[0msklearn\u001b[0m\u001b[0;34m.\u001b[0m\u001b[0mensemble\u001b[0m \u001b[0;32mimport\u001b[0m \u001b[0mHistGradientBoostingRegressor\u001b[0m\u001b[0;34m\u001b[0m\u001b[0;34m\u001b[0m\u001b[0m\n\u001b[0m\u001b[1;32m      2\u001b[0m \u001b[0mnrep\u001b[0m\u001b[0;34m=\u001b[0m\u001b[0;36m1000\u001b[0m\u001b[0;34m\u001b[0m\u001b[0;34m\u001b[0m\u001b[0m\n\u001b[1;32m      3\u001b[0m \u001b[0mMSE\u001b[0m\u001b[0;34m=\u001b[0m\u001b[0mlist\u001b[0m\u001b[0;34m(\u001b[0m\u001b[0;34m)\u001b[0m\u001b[0;34m\u001b[0m\u001b[0;34m\u001b[0m\u001b[0m\n\u001b[1;32m      4\u001b[0m \u001b[0;32mfor\u001b[0m \u001b[0mi\u001b[0m \u001b[0;32min\u001b[0m \u001b[0mrange\u001b[0m\u001b[0;34m(\u001b[0m\u001b[0mnrep\u001b[0m\u001b[0;34m)\u001b[0m\u001b[0;34m:\u001b[0m\u001b[0;34m\u001b[0m\u001b[0;34m\u001b[0m\u001b[0m\n\u001b[1;32m      5\u001b[0m     \u001b[0;32mif\u001b[0m \u001b[0mi\u001b[0m\u001b[0;34m%\u001b[0m\u001b[0;36m50\u001b[0m\u001b[0;34m==\u001b[0m\u001b[0;36m0\u001b[0m\u001b[0;34m:\u001b[0m\u001b[0;34m\u001b[0m\u001b[0;34m\u001b[0m\u001b[0m\n",
      "\u001b[0;31mImportError\u001b[0m: cannot import name 'HistGradientBoostingRegressor' from 'sklearn.ensemble' (/Users/raysun/anaconda3/lib/python3.7/site-packages/sklearn/ensemble/__init__.py)"
     ]
    }
   ],
   "source": [
    "from sklearn.ensemble import HistGradientBoostingRegressor\n",
    "nrep=1000\n",
    "MSE=list()\n",
    "for i in range(nrep):\n",
    "    if i%50==0:    \n",
    "        print(i)\n",
    "    X_train, X_test, y_train, y_test = train_test_split(data[['father','mother','children','gender']],\n",
    "                                                    data['childHeight'], test_size=200, random_state=None)    \n",
    "    regr = HistGradientBoostingRegressor(n_estimators=100)\n",
    "    regr.fit(X_train,y_train)\n",
    "    pred = regr.predict(X_test)\n",
    "    mse = mean_squared_error(y_test,pred)\n",
    "    MSE.append(mse)\n",
    "print(np.mean(MSE))\n",
    "print(np.var(MSE))"
   ]
  },
  {
   "cell_type": "code",
   "execution_count": 349,
   "metadata": {
    "ExecuteTime": {
     "end_time": "2020-05-04T15:38:06.681366Z",
     "start_time": "2020-05-04T15:37:38.028441Z"
    }
   },
   "outputs": [
    {
     "name": "stdout",
     "output_type": "stream",
     "text": [
      "0\n",
      "50\n",
      "5.032766784182288\n",
      "0.30323895440233295\n"
     ]
    }
   ],
   "source": [
    "\n",
    "from sklearn.neural_network import MLPRegressor\n",
    "from sklearn.model_selection import train_test_split\n",
    "from sklearn.preprocessing import StandardScaler\n",
    "nrep=100\n",
    "MSE=list()\n",
    "for i in range(nrep):\n",
    "    if i%50==0:    \n",
    "        print(i)\n",
    "    X_train, X_test, y_train, y_test = train_test_split(data[['father','mother','children','gender']],\n",
    "                                                    data['childHeight'], test_size=200, random_state=None)    \n",
    "    #scaler = StandardScaler() \n",
    "    #scaler.fit(X_train)\n",
    "    #X_train=scaler.transform(X_train)\n",
    "    #X_test=scaler.transform(X_test)\n",
    "    mlpr = MLPRegressor(solver='lbfgs',hidden_layer_sizes=(100, ))\n",
    "    regr = mlpr\n",
    "    regr.fit(X_train,y_train)\n",
    "    pred = regr.predict(X_test)\n",
    "    mse = mean_squared_error(y_test,pred)\n",
    "    MSE.append(mse)\n",
    "print(np.mean(MSE))\n",
    "print(np.var(MSE))"
   ]
  },
  {
   "cell_type": "code",
   "execution_count": null,
   "metadata": {},
   "outputs": [],
   "source": []
  },
  {
   "cell_type": "code",
   "execution_count": null,
   "metadata": {},
   "outputs": [],
   "source": []
  },
  {
   "cell_type": "code",
   "execution_count": 445,
   "metadata": {
    "ExecuteTime": {
     "end_time": "2020-05-04T17:02:59.396694Z",
     "start_time": "2020-05-04T16:56:25.860873Z"
    }
   },
   "outputs": [
    {
     "name": "stdout",
     "output_type": "stream",
     "text": [
      "0\n",
      "50\n",
      "100\n",
      "150\n",
      "200\n",
      "250\n",
      "300\n",
      "350\n",
      "400\n",
      "450\n",
      "500\n",
      "550\n",
      "600\n",
      "650\n",
      "700\n",
      "750\n",
      "800\n",
      "850\n",
      "900\n",
      "950\n",
      "4.5346921826992475\n",
      "0.196272007339887\n"
     ]
    }
   ],
   "source": [
    "from sklearn.ensemble import VotingRegressor\n",
    "from sklearn.ensemble import GradientBoostingRegressor\n",
    "from sklearn.ensemble import RandomForestRegressor\n",
    "from sklearn.linear_model import TheilSenRegressor\n",
    "from sklearn.linear_model import RANSACRegressor\n",
    "from sklearn.linear_model import LinearRegression\n",
    "from sklearn.preprocessing import PolynomialFeatures\n",
    "from sklearn.linear_model import LinearRegression\n",
    "from sklearn.pipeline import Pipeline\n",
    "from sklearn.kernel_ridge import KernelRidge\n",
    "from sklearn.neighbors import KNeighborsRegressor\n",
    "from sklearn.svm import SVR\n",
    "nrep=1000\n",
    "MSE=list()\n",
    "for i in range(nrep):\n",
    "    if i%50==0:    \n",
    "        print(i)\n",
    "    X_train, X_test, y_train, y_test = train_test_split(data[['father','mother','children','gender']],\n",
    "                                                    data['childHeight'], test_size=200, random_state=None)    \n",
    "\n",
    "    reg1 = GradientBoostingRegressor(random_state=1, n_estimators=100)\n",
    "    reg2 = RandomForestRegressor(random_state=1, n_estimators=100)\n",
    "    reg3 = linear_model.BayesianRidge(alpha_1=0.1,alpha_2=0.1)\n",
    "    reg4 = linear_model.HuberRegressor()\n",
    "    reg5 = Pipeline([('poly', PolynomialFeatures(degree=1,interaction_only=True)),\n",
    "                   ('linear', LinearRegression(fit_intercept=False))])\n",
    "    reg6=AdaBoostRegressor()\n",
    "    reg7=KernelRidge(alpha=1.0)\n",
    "    reg8=TheilSenRegressor()\n",
    "    reg9=linear_model.Lars()\n",
    "    reg10=SVR(kernel='linear',degree=1)\n",
    "    reg11=linear_model.OrthogonalMatchingPursuit()\n",
    "    reg12=KNeighborsRegressor(n_neighbors=5)\n",
    "    vg = VotingRegressor(estimators=[('gb', reg1),\n",
    "                                     ('red',reg2),\n",
    "                                     #('rf', reg3),\n",
    "                                     ('lr',reg4),\n",
    "                                     ('gnb',reg5),\n",
    "                                     ('pink',reg6),\n",
    "                                     ('purple',reg7),\n",
    "                                     #('salmon',reg8),\n",
    "                                     #('peru',reg9),\n",
    "                                     ('sandybrown',reg10),\n",
    "                                     #('seagreen',reg11),\n",
    "                                    ])\n",
    "    #vg = VotingRegressor(estimators=[('gb', reg5), ('rf', reg4)])   \n",
    "    regr = vg\n",
    "    regr.fit(X_train,y_train)\n",
    "    pred = regr.predict(X_test)\n",
    "    mse = mean_squared_error(y_test,pred)\n",
    "    MSE.append(mse)\n",
    "print(np.mean(MSE))\n",
    "print(np.var(MSE))"
   ]
  },
  {
   "cell_type": "code",
   "execution_count": 5,
   "metadata": {
    "ExecuteTime": {
     "end_time": "2020-05-18T15:14:43.406057Z",
     "start_time": "2020-05-18T15:14:43.141621Z"
    }
   },
   "outputs": [
    {
     "ename": "ValueError",
     "evalue": "could not convert string to float: '136A'",
     "output_type": "error",
     "traceback": [
      "\u001b[0;31m---------------------------------------------------------------------------\u001b[0m",
      "\u001b[0;31mValueError\u001b[0m                                Traceback (most recent call last)",
      "\u001b[0;32m<ipython-input-5-7aca5ba98a18>\u001b[0m in \u001b[0;36m<module>\u001b[0;34m\u001b[0m\n\u001b[1;32m      5\u001b[0m                                                     data['childHeight'], test_size=200, random_state=None)    \n\u001b[1;32m      6\u001b[0m     \u001b[0mregr\u001b[0m \u001b[0;34m=\u001b[0m \u001b[0mlinear_model\u001b[0m\u001b[0;34m.\u001b[0m\u001b[0mLinearRegression\u001b[0m\u001b[0;34m(\u001b[0m\u001b[0mcopy_X\u001b[0m\u001b[0;34m=\u001b[0m\u001b[0;32mTrue\u001b[0m\u001b[0;34m,\u001b[0m\u001b[0mfit_intercept\u001b[0m\u001b[0;34m=\u001b[0m\u001b[0;32mTrue\u001b[0m\u001b[0;34m,\u001b[0m\u001b[0mn_jobs\u001b[0m\u001b[0;34m=\u001b[0m\u001b[0;36m1\u001b[0m\u001b[0;34m,\u001b[0m\u001b[0mnormalize\u001b[0m\u001b[0;34m=\u001b[0m\u001b[0;32mFalse\u001b[0m\u001b[0;34m)\u001b[0m\u001b[0;34m\u001b[0m\u001b[0;34m\u001b[0m\u001b[0m\n\u001b[0;32m----> 7\u001b[0;31m     \u001b[0mregr\u001b[0m\u001b[0;34m.\u001b[0m\u001b[0mfit\u001b[0m\u001b[0;34m(\u001b[0m\u001b[0mX_train\u001b[0m\u001b[0;34m,\u001b[0m\u001b[0my_train\u001b[0m\u001b[0;34m)\u001b[0m\u001b[0;34m\u001b[0m\u001b[0;34m\u001b[0m\u001b[0m\n\u001b[0m\u001b[1;32m      8\u001b[0m     \u001b[0mpred\u001b[0m \u001b[0;34m=\u001b[0m \u001b[0mregr\u001b[0m\u001b[0;34m.\u001b[0m\u001b[0mpredict\u001b[0m\u001b[0;34m(\u001b[0m\u001b[0mX_test\u001b[0m\u001b[0;34m)\u001b[0m\u001b[0;34m\u001b[0m\u001b[0;34m\u001b[0m\u001b[0m\n\u001b[1;32m      9\u001b[0m     \u001b[0mmse\u001b[0m \u001b[0;34m=\u001b[0m \u001b[0mmean_squared_error\u001b[0m\u001b[0;34m(\u001b[0m\u001b[0my_test\u001b[0m\u001b[0;34m,\u001b[0m\u001b[0mpred\u001b[0m\u001b[0;34m)\u001b[0m\u001b[0;34m\u001b[0m\u001b[0;34m\u001b[0m\u001b[0m\n",
      "\u001b[0;32m~/anaconda3/lib/python3.7/site-packages/sklearn/linear_model/base.py\u001b[0m in \u001b[0;36mfit\u001b[0;34m(self, X, y, sample_weight)\u001b[0m\n\u001b[1;32m    461\u001b[0m         \u001b[0mn_jobs_\u001b[0m \u001b[0;34m=\u001b[0m \u001b[0mself\u001b[0m\u001b[0;34m.\u001b[0m\u001b[0mn_jobs\u001b[0m\u001b[0;34m\u001b[0m\u001b[0;34m\u001b[0m\u001b[0m\n\u001b[1;32m    462\u001b[0m         X, y = check_X_y(X, y, accept_sparse=['csr', 'csc', 'coo'],\n\u001b[0;32m--> 463\u001b[0;31m                          y_numeric=True, multi_output=True)\n\u001b[0m\u001b[1;32m    464\u001b[0m \u001b[0;34m\u001b[0m\u001b[0m\n\u001b[1;32m    465\u001b[0m         \u001b[0;32mif\u001b[0m \u001b[0msample_weight\u001b[0m \u001b[0;32mis\u001b[0m \u001b[0;32mnot\u001b[0m \u001b[0;32mNone\u001b[0m \u001b[0;32mand\u001b[0m \u001b[0mnp\u001b[0m\u001b[0;34m.\u001b[0m\u001b[0matleast_1d\u001b[0m\u001b[0;34m(\u001b[0m\u001b[0msample_weight\u001b[0m\u001b[0;34m)\u001b[0m\u001b[0;34m.\u001b[0m\u001b[0mndim\u001b[0m \u001b[0;34m>\u001b[0m \u001b[0;36m1\u001b[0m\u001b[0;34m:\u001b[0m\u001b[0;34m\u001b[0m\u001b[0;34m\u001b[0m\u001b[0m\n",
      "\u001b[0;32m~/anaconda3/lib/python3.7/site-packages/sklearn/utils/validation.py\u001b[0m in \u001b[0;36mcheck_X_y\u001b[0;34m(X, y, accept_sparse, accept_large_sparse, dtype, order, copy, force_all_finite, ensure_2d, allow_nd, multi_output, ensure_min_samples, ensure_min_features, y_numeric, warn_on_dtype, estimator)\u001b[0m\n\u001b[1;32m    717\u001b[0m                     \u001b[0mensure_min_features\u001b[0m\u001b[0;34m=\u001b[0m\u001b[0mensure_min_features\u001b[0m\u001b[0;34m,\u001b[0m\u001b[0;34m\u001b[0m\u001b[0;34m\u001b[0m\u001b[0m\n\u001b[1;32m    718\u001b[0m                     \u001b[0mwarn_on_dtype\u001b[0m\u001b[0;34m=\u001b[0m\u001b[0mwarn_on_dtype\u001b[0m\u001b[0;34m,\u001b[0m\u001b[0;34m\u001b[0m\u001b[0;34m\u001b[0m\u001b[0m\n\u001b[0;32m--> 719\u001b[0;31m                     estimator=estimator)\n\u001b[0m\u001b[1;32m    720\u001b[0m     \u001b[0;32mif\u001b[0m \u001b[0mmulti_output\u001b[0m\u001b[0;34m:\u001b[0m\u001b[0;34m\u001b[0m\u001b[0;34m\u001b[0m\u001b[0m\n\u001b[1;32m    721\u001b[0m         y = check_array(y, 'csr', force_all_finite=True, ensure_2d=False,\n",
      "\u001b[0;32m~/anaconda3/lib/python3.7/site-packages/sklearn/utils/validation.py\u001b[0m in \u001b[0;36mcheck_array\u001b[0;34m(array, accept_sparse, accept_large_sparse, dtype, order, copy, force_all_finite, ensure_2d, allow_nd, ensure_min_samples, ensure_min_features, warn_on_dtype, estimator)\u001b[0m\n\u001b[1;32m    534\u001b[0m         \u001b[0;31m# make sure we actually converted to numeric:\u001b[0m\u001b[0;34m\u001b[0m\u001b[0;34m\u001b[0m\u001b[0;34m\u001b[0m\u001b[0m\n\u001b[1;32m    535\u001b[0m         \u001b[0;32mif\u001b[0m \u001b[0mdtype_numeric\u001b[0m \u001b[0;32mand\u001b[0m \u001b[0marray\u001b[0m\u001b[0;34m.\u001b[0m\u001b[0mdtype\u001b[0m\u001b[0;34m.\u001b[0m\u001b[0mkind\u001b[0m \u001b[0;34m==\u001b[0m \u001b[0;34m\"O\"\u001b[0m\u001b[0;34m:\u001b[0m\u001b[0;34m\u001b[0m\u001b[0;34m\u001b[0m\u001b[0m\n\u001b[0;32m--> 536\u001b[0;31m             \u001b[0marray\u001b[0m \u001b[0;34m=\u001b[0m \u001b[0marray\u001b[0m\u001b[0;34m.\u001b[0m\u001b[0mastype\u001b[0m\u001b[0;34m(\u001b[0m\u001b[0mnp\u001b[0m\u001b[0;34m.\u001b[0m\u001b[0mfloat64\u001b[0m\u001b[0;34m)\u001b[0m\u001b[0;34m\u001b[0m\u001b[0;34m\u001b[0m\u001b[0m\n\u001b[0m\u001b[1;32m    537\u001b[0m         \u001b[0;32mif\u001b[0m \u001b[0;32mnot\u001b[0m \u001b[0mallow_nd\u001b[0m \u001b[0;32mand\u001b[0m \u001b[0marray\u001b[0m\u001b[0;34m.\u001b[0m\u001b[0mndim\u001b[0m \u001b[0;34m>=\u001b[0m \u001b[0;36m3\u001b[0m\u001b[0;34m:\u001b[0m\u001b[0;34m\u001b[0m\u001b[0;34m\u001b[0m\u001b[0m\n\u001b[1;32m    538\u001b[0m             raise ValueError(\"Found array with dim %d. %s expected <= 2.\"\n",
      "\u001b[0;31mValueError\u001b[0m: could not convert string to float: '136A'"
     ]
    }
   ],
   "source": [
    "nrep=2000\n",
    "MSE=list()\n",
    "for i in range(nrep):\n",
    "    X_train, X_test, y_train, y_test = train_test_split(data[['midparentHeight','family','childNum']],\n",
    "                                                    data['childHeight'], test_size=200, random_state=None)    \n",
    "    regr = linear_model.LinearRegression(copy_X=True,fit_intercept=True,n_jobs=1,normalize=False)\n",
    "    regr.fit(X_train,y_train)\n",
    "    pred = regr.predict(X_test)\n",
    "    mse = mean_squared_error(y_test,pred)\n",
    "    MSE.append(mse)\n",
    "print(np.mean(MSE))\n",
    "print(np.var(MSE))"
   ]
  },
  {
   "cell_type": "code",
   "execution_count": 21,
   "metadata": {
    "ExecuteTime": {
     "end_time": "2020-05-18T15:21:10.365666Z",
     "start_time": "2020-05-18T15:21:10.333972Z"
    }
   },
   "outputs": [
    {
     "ename": "TypeError",
     "evalue": "(\"'int' object is not callable\", 'occurred at index family')",
     "output_type": "error",
     "traceback": [
      "\u001b[0;31m---------------------------------------------------------------------------\u001b[0m",
      "\u001b[0;31mTypeError\u001b[0m                                 Traceback (most recent call last)",
      "\u001b[0;32m<ipython-input-21-eacf98e2f4d9>\u001b[0m in \u001b[0;36m<module>\u001b[0;34m\u001b[0m\n\u001b[1;32m      1\u001b[0m \u001b[0ma\u001b[0m\u001b[0;34m=\u001b[0m\u001b[0mpd\u001b[0m\u001b[0;34m.\u001b[0m\u001b[0mDataFrame\u001b[0m\u001b[0;34m(\u001b[0m\u001b[0mdata\u001b[0m\u001b[0;34m.\u001b[0m\u001b[0mfamily\u001b[0m\u001b[0;34m)\u001b[0m\u001b[0;34m.\u001b[0m\u001b[0mdrop_duplicates\u001b[0m\u001b[0;34m(\u001b[0m\u001b[0;34m)\u001b[0m\u001b[0;34m\u001b[0m\u001b[0;34m\u001b[0m\u001b[0m\n\u001b[0;32m----> 2\u001b[0;31m \u001b[0ma\u001b[0m\u001b[0;34m.\u001b[0m\u001b[0mapply\u001b[0m\u001b[0;34m(\u001b[0m\u001b[0mint\u001b[0m\u001b[0;34m(\u001b[0m\u001b[0;34m)\u001b[0m\u001b[0;34m)\u001b[0m\u001b[0;34m\u001b[0m\u001b[0;34m\u001b[0m\u001b[0m\n\u001b[0m",
      "\u001b[0;32m~/anaconda3/lib/python3.7/site-packages/pandas/core/frame.py\u001b[0m in \u001b[0;36mapply\u001b[0;34m(self, func, axis, broadcast, raw, reduce, result_type, args, **kwds)\u001b[0m\n\u001b[1;32m   6926\u001b[0m             \u001b[0mkwds\u001b[0m\u001b[0;34m=\u001b[0m\u001b[0mkwds\u001b[0m\u001b[0;34m,\u001b[0m\u001b[0;34m\u001b[0m\u001b[0;34m\u001b[0m\u001b[0m\n\u001b[1;32m   6927\u001b[0m         )\n\u001b[0;32m-> 6928\u001b[0;31m         \u001b[0;32mreturn\u001b[0m \u001b[0mop\u001b[0m\u001b[0;34m.\u001b[0m\u001b[0mget_result\u001b[0m\u001b[0;34m(\u001b[0m\u001b[0;34m)\u001b[0m\u001b[0;34m\u001b[0m\u001b[0;34m\u001b[0m\u001b[0m\n\u001b[0m\u001b[1;32m   6929\u001b[0m \u001b[0;34m\u001b[0m\u001b[0m\n\u001b[1;32m   6930\u001b[0m     \u001b[0;32mdef\u001b[0m \u001b[0mapplymap\u001b[0m\u001b[0;34m(\u001b[0m\u001b[0mself\u001b[0m\u001b[0;34m,\u001b[0m \u001b[0mfunc\u001b[0m\u001b[0;34m)\u001b[0m\u001b[0;34m:\u001b[0m\u001b[0;34m\u001b[0m\u001b[0;34m\u001b[0m\u001b[0m\n",
      "\u001b[0;32m~/anaconda3/lib/python3.7/site-packages/pandas/core/apply.py\u001b[0m in \u001b[0;36mget_result\u001b[0;34m(self)\u001b[0m\n\u001b[1;32m    184\u001b[0m             \u001b[0;32mreturn\u001b[0m \u001b[0mself\u001b[0m\u001b[0;34m.\u001b[0m\u001b[0mapply_raw\u001b[0m\u001b[0;34m(\u001b[0m\u001b[0;34m)\u001b[0m\u001b[0;34m\u001b[0m\u001b[0;34m\u001b[0m\u001b[0m\n\u001b[1;32m    185\u001b[0m \u001b[0;34m\u001b[0m\u001b[0m\n\u001b[0;32m--> 186\u001b[0;31m         \u001b[0;32mreturn\u001b[0m \u001b[0mself\u001b[0m\u001b[0;34m.\u001b[0m\u001b[0mapply_standard\u001b[0m\u001b[0;34m(\u001b[0m\u001b[0;34m)\u001b[0m\u001b[0;34m\u001b[0m\u001b[0;34m\u001b[0m\u001b[0m\n\u001b[0m\u001b[1;32m    187\u001b[0m \u001b[0;34m\u001b[0m\u001b[0m\n\u001b[1;32m    188\u001b[0m     \u001b[0;32mdef\u001b[0m \u001b[0mapply_empty_result\u001b[0m\u001b[0;34m(\u001b[0m\u001b[0mself\u001b[0m\u001b[0;34m)\u001b[0m\u001b[0;34m:\u001b[0m\u001b[0;34m\u001b[0m\u001b[0;34m\u001b[0m\u001b[0m\n",
      "\u001b[0;32m~/anaconda3/lib/python3.7/site-packages/pandas/core/apply.py\u001b[0m in \u001b[0;36mapply_standard\u001b[0;34m(self)\u001b[0m\n\u001b[1;32m    290\u001b[0m \u001b[0;34m\u001b[0m\u001b[0m\n\u001b[1;32m    291\u001b[0m         \u001b[0;31m# compute the result using the series generator\u001b[0m\u001b[0;34m\u001b[0m\u001b[0;34m\u001b[0m\u001b[0;34m\u001b[0m\u001b[0m\n\u001b[0;32m--> 292\u001b[0;31m         \u001b[0mself\u001b[0m\u001b[0;34m.\u001b[0m\u001b[0mapply_series_generator\u001b[0m\u001b[0;34m(\u001b[0m\u001b[0;34m)\u001b[0m\u001b[0;34m\u001b[0m\u001b[0;34m\u001b[0m\u001b[0m\n\u001b[0m\u001b[1;32m    293\u001b[0m \u001b[0;34m\u001b[0m\u001b[0m\n\u001b[1;32m    294\u001b[0m         \u001b[0;31m# wrap results\u001b[0m\u001b[0;34m\u001b[0m\u001b[0;34m\u001b[0m\u001b[0;34m\u001b[0m\u001b[0m\n",
      "\u001b[0;32m~/anaconda3/lib/python3.7/site-packages/pandas/core/apply.py\u001b[0m in \u001b[0;36mapply_series_generator\u001b[0;34m(self)\u001b[0m\n\u001b[1;32m    319\u001b[0m             \u001b[0;32mtry\u001b[0m\u001b[0;34m:\u001b[0m\u001b[0;34m\u001b[0m\u001b[0;34m\u001b[0m\u001b[0m\n\u001b[1;32m    320\u001b[0m                 \u001b[0;32mfor\u001b[0m \u001b[0mi\u001b[0m\u001b[0;34m,\u001b[0m \u001b[0mv\u001b[0m \u001b[0;32min\u001b[0m \u001b[0menumerate\u001b[0m\u001b[0;34m(\u001b[0m\u001b[0mseries_gen\u001b[0m\u001b[0;34m)\u001b[0m\u001b[0;34m:\u001b[0m\u001b[0;34m\u001b[0m\u001b[0;34m\u001b[0m\u001b[0m\n\u001b[0;32m--> 321\u001b[0;31m                     \u001b[0mresults\u001b[0m\u001b[0;34m[\u001b[0m\u001b[0mi\u001b[0m\u001b[0;34m]\u001b[0m \u001b[0;34m=\u001b[0m \u001b[0mself\u001b[0m\u001b[0;34m.\u001b[0m\u001b[0mf\u001b[0m\u001b[0;34m(\u001b[0m\u001b[0mv\u001b[0m\u001b[0;34m)\u001b[0m\u001b[0;34m\u001b[0m\u001b[0;34m\u001b[0m\u001b[0m\n\u001b[0m\u001b[1;32m    322\u001b[0m                     \u001b[0mkeys\u001b[0m\u001b[0;34m.\u001b[0m\u001b[0mappend\u001b[0m\u001b[0;34m(\u001b[0m\u001b[0mv\u001b[0m\u001b[0;34m.\u001b[0m\u001b[0mname\u001b[0m\u001b[0;34m)\u001b[0m\u001b[0;34m\u001b[0m\u001b[0;34m\u001b[0m\u001b[0m\n\u001b[1;32m    323\u001b[0m             \u001b[0;32mexcept\u001b[0m \u001b[0mException\u001b[0m \u001b[0;32mas\u001b[0m \u001b[0me\u001b[0m\u001b[0;34m:\u001b[0m\u001b[0;34m\u001b[0m\u001b[0;34m\u001b[0m\u001b[0m\n",
      "\u001b[0;31mTypeError\u001b[0m: (\"'int' object is not callable\", 'occurred at index family')"
     ]
    }
   ],
   "source": [
    "a=pd.DataFrame(data.family).drop_duplicates()\n",
    "a.apply(int())"
   ]
  },
  {
   "cell_type": "code",
   "execution_count": 22,
   "metadata": {
    "ExecuteTime": {
     "end_time": "2020-05-18T15:21:22.615431Z",
     "start_time": "2020-05-18T15:21:22.598999Z"
    }
   },
   "outputs": [
    {
     "data": {
      "text/html": [
       "<div>\n",
       "<style scoped>\n",
       "    .dataframe tbody tr th:only-of-type {\n",
       "        vertical-align: middle;\n",
       "    }\n",
       "\n",
       "    .dataframe tbody tr th {\n",
       "        vertical-align: top;\n",
       "    }\n",
       "\n",
       "    .dataframe thead th {\n",
       "        text-align: right;\n",
       "    }\n",
       "</style>\n",
       "<table border=\"1\" class=\"dataframe\">\n",
       "  <thead>\n",
       "    <tr style=\"text-align: right;\">\n",
       "      <th></th>\n",
       "      <th>family</th>\n",
       "    </tr>\n",
       "  </thead>\n",
       "  <tbody>\n",
       "    <tr>\n",
       "      <th>0</th>\n",
       "      <td>001</td>\n",
       "    </tr>\n",
       "    <tr>\n",
       "      <th>4</th>\n",
       "      <td>002</td>\n",
       "    </tr>\n",
       "    <tr>\n",
       "      <th>8</th>\n",
       "      <td>003</td>\n",
       "    </tr>\n",
       "    <tr>\n",
       "      <th>10</th>\n",
       "      <td>004</td>\n",
       "    </tr>\n",
       "    <tr>\n",
       "      <th>15</th>\n",
       "      <td>005</td>\n",
       "    </tr>\n",
       "    <tr>\n",
       "      <th>...</th>\n",
       "      <td>...</td>\n",
       "    </tr>\n",
       "    <tr>\n",
       "      <th>924</th>\n",
       "      <td>200</td>\n",
       "    </tr>\n",
       "    <tr>\n",
       "      <th>925</th>\n",
       "      <td>201</td>\n",
       "    </tr>\n",
       "    <tr>\n",
       "      <th>927</th>\n",
       "      <td>202</td>\n",
       "    </tr>\n",
       "    <tr>\n",
       "      <th>929</th>\n",
       "      <td>203</td>\n",
       "    </tr>\n",
       "    <tr>\n",
       "      <th>932</th>\n",
       "      <td>204</td>\n",
       "    </tr>\n",
       "  </tbody>\n",
       "</table>\n",
       "<p>205 rows × 1 columns</p>\n",
       "</div>"
      ],
      "text/plain": [
       "    family\n",
       "0      001\n",
       "4      002\n",
       "8      003\n",
       "10     004\n",
       "15     005\n",
       "..     ...\n",
       "924    200\n",
       "925    201\n",
       "927    202\n",
       "929    203\n",
       "932    204\n",
       "\n",
       "[205 rows x 1 columns]"
      ]
     },
     "execution_count": 22,
     "metadata": {},
     "output_type": "execute_result"
    }
   ],
   "source": [
    "a"
   ]
  },
  {
   "cell_type": "code",
   "execution_count": null,
   "metadata": {},
   "outputs": [],
   "source": []
  }
 ],
 "metadata": {
  "kernelspec": {
   "display_name": "Python 3",
   "language": "python",
   "name": "python3"
  },
  "language_info": {
   "codemirror_mode": {
    "name": "ipython",
    "version": 3
   },
   "file_extension": ".py",
   "mimetype": "text/x-python",
   "name": "python",
   "nbconvert_exporter": "python",
   "pygments_lexer": "ipython3",
   "version": "3.7.3"
  },
  "latex_envs": {
   "LaTeX_envs_menu_present": true,
   "autoclose": false,
   "autocomplete": true,
   "bibliofile": "biblio.bib",
   "cite_by": "apalike",
   "current_citInitial": 1,
   "eqLabelWithNumbers": true,
   "eqNumInitial": 1,
   "hotkeys": {
    "equation": "Ctrl-E",
    "itemize": "Ctrl-I"
   },
   "labels_anchors": false,
   "latex_user_defs": false,
   "report_style_numbering": false,
   "user_envs_cfg": false
  },
  "toc": {
   "base_numbering": 1,
   "nav_menu": {},
   "number_sections": true,
   "sideBar": true,
   "skip_h1_title": false,
   "title_cell": "Table of Contents",
   "title_sidebar": "Contents",
   "toc_cell": false,
   "toc_position": {},
   "toc_section_display": true,
   "toc_window_display": false
  },
  "varInspector": {
   "cols": {
    "lenName": 16,
    "lenType": 16,
    "lenVar": 40
   },
   "kernels_config": {
    "python": {
     "delete_cmd_postfix": "",
     "delete_cmd_prefix": "del ",
     "library": "var_list.py",
     "varRefreshCmd": "print(var_dic_list())"
    },
    "r": {
     "delete_cmd_postfix": ") ",
     "delete_cmd_prefix": "rm(",
     "library": "var_list.r",
     "varRefreshCmd": "cat(var_dic_list()) "
    }
   },
   "types_to_exclude": [
    "module",
    "function",
    "builtin_function_or_method",
    "instance",
    "_Feature"
   ],
   "window_display": false
  }
 },
 "nbformat": 4,
 "nbformat_minor": 2
}
